{
  "nbformat": 4,
  "nbformat_minor": 0,
  "metadata": {
    "colab": {
      "provenance": [],
      "authorship_tag": "ABX9TyMK7wq3kxyZKsXvhg/x9ECI",
      "include_colab_link": true
    },
    "kernelspec": {
      "name": "python3",
      "display_name": "Python 3"
    },
    "language_info": {
      "name": "python"
    }
  },
  "cells": [
    {
      "cell_type": "markdown",
      "metadata": {
        "id": "view-in-github",
        "colab_type": "text"
      },
      "source": [
        "<a href=\"https://colab.research.google.com/github/ismeh/sige_p2/blob/main/sige_p2.ipynb\" target=\"_parent\"><img src=\"https://colab.research.google.com/assets/colab-badge.svg\" alt=\"Open In Colab\"/></a>"
      ]
    },
    {
      "cell_type": "markdown",
      "source": [
        "# Sistemas Inteligentes para la Gestión en la Empresa Práctica 2: Deep Learning para clasificación"
      ],
      "metadata": {
        "id": "IGuCvh6iBUOy"
      }
    },
    {
      "cell_type": "markdown",
      "source": [
        "En este cuadernillo estudiaremos como desarrollar un modelo de clasificación basado en redes neuronales profundas capaz de trabajar con datos multimodales."
      ],
      "metadata": {
        "id": "fxC_oQQ3Boc4"
      }
    },
    {
      "cell_type": "markdown",
      "source": [
        "## Descripción del problema"
      ],
      "metadata": {
        "id": "HgPJj9Y_B0kH"
      }
    },
    {
      "cell_type": "markdown",
      "source": [
        "Vamos a trabajar con el dataset [CUB-200-2011](https://www.vision.caltech.edu/datasets/cub_200_2011/), que contiene 11728 imágenes de pájaros con 200 categorías.\n"
      ],
      "metadata": {
        "id": "lQEnTBBNB2VC"
      }
    },
    {
      "cell_type": "markdown",
      "source": [
        "Disponemos de 2 fuentes de datos\n",
        "- Imágenes de cada una de las clases\n",
        "- Metadatos de cada clase"
      ],
      "metadata": {
        "id": "cgy6G5BtDIhE"
      }
    },
    {
      "cell_type": "markdown",
      "source": [
        "## Subconjunto de categorías"
      ],
      "metadata": {
        "id": "SPepUleAaiI7"
      }
    },
    {
      "cell_type": "code",
      "source": [],
      "metadata": {
        "id": "WM_WPqgCa3CC"
      },
      "execution_count": null,
      "outputs": []
    },
    {
      "cell_type": "markdown",
      "source": [
        "### Análisis exploratorio"
      ],
      "metadata": {
        "id": "0iAEaeNEangz"
      }
    },
    {
      "cell_type": "code",
      "source": [],
      "metadata": {
        "id": "lrT3k806a2RT"
      },
      "execution_count": null,
      "outputs": []
    },
    {
      "cell_type": "markdown",
      "source": [
        "### Particionamiento de datos"
      ],
      "metadata": {
        "id": "m38aLMvLarMt"
      }
    },
    {
      "cell_type": "code",
      "execution_count": null,
      "metadata": {
        "id": "YWdJ6CLYBJUz"
      },
      "outputs": [],
      "source": []
    },
    {
      "cell_type": "markdown",
      "source": [
        "### Modelo"
      ],
      "metadata": {
        "id": "VPNjbCZQbBaI"
      }
    },
    {
      "cell_type": "code",
      "source": [],
      "metadata": {
        "id": "qIsyYE95bJAb"
      },
      "execution_count": null,
      "outputs": []
    },
    {
      "cell_type": "markdown",
      "source": [],
      "metadata": {
        "id": "IuK8f0SjpHgR"
      }
    },
    {
      "cell_type": "markdown",
      "source": [
        "## 200 clases"
      ],
      "metadata": {
        "id": "ViSApDXSpH0V"
      }
    },
    {
      "cell_type": "code",
      "source": [],
      "metadata": {
        "id": "gTRa3QFIpMDx"
      },
      "execution_count": null,
      "outputs": []
    },
    {
      "cell_type": "markdown",
      "source": [
        "### Análisis exploratorio"
      ],
      "metadata": {
        "id": "RoEKmL-fpMRw"
      }
    }
  ]
}